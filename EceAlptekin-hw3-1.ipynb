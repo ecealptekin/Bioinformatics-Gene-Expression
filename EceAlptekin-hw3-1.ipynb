{
 "cells": [
  {
   "cell_type": "markdown",
   "metadata": {
    "colab_type": "text",
    "id": "nOJ9-i0tpqOM"
   },
   "source": [
    "Note: Modified from Bioinformatics Algorithms: An Active Learning Approach [Chapter 3](https://www.bioinformaticsalgorithms.org/bioinformatics-chapter-3)\n"
   ]
  },
  {
   "cell_type": "markdown",
   "metadata": {
    "colab_type": "text",
    "id": "V4rAtGRnpoRO"
   },
   "source": [
    "Ece Alptekin\n",
    "24156"
   ]
  },
  {
   "cell_type": "markdown",
   "metadata": {
    "colab_type": "text",
    "id": "y1S2FCAae7n8"
   },
   "source": [
    "# String composition problem\n",
    "\n",
    "\n",
    "    Input: An integer k and a string Text.\n",
    "    Output: Compositionk(Text).\n",
    "\n",
    "See http://rosalind.info/problems/ba3a/ for sample input and output."
   ]
  },
  {
   "cell_type": "code",
   "execution_count": 3,
   "metadata": {
    "colab": {},
    "colab_type": "code",
    "id": "uJTyzhBZfeR6"
   },
   "outputs": [],
   "source": [
    "def getComposition(seq, k):\n",
    "  '''\n",
    "  seq is a string e.g. 'ATCGG'\n",
    "  k is an int e.g. k = 3\n",
    "  '''\n",
    "  # Initialize a list to hold the k-mers\n",
    "  k_mers = []\n",
    "  # Get each k-mer from seq and add to k_mers list\n",
    "  for i in range(len(seq)-k+1):\n",
    "      k_mers.append(seq[i:i+k])\n",
    " \n",
    "  return sorted(k_mers)\n"
   ]
  },
  {
   "cell_type": "code",
   "execution_count": 4,
   "metadata": {
    "colab": {
     "base_uri": "https://localhost:8080/",
     "height": 34
    },
    "colab_type": "code",
    "id": "t5M7l9XbhuwE",
    "outputId": "bddb688e-4598-4847-e4d2-6efb4354c39d"
   },
   "outputs": [
    {
     "data": {
      "text/plain": [
       "['AATCC', 'ATCCA', 'CAATC', 'CCAAC', 'TCCAA']"
      ]
     },
     "execution_count": 4,
     "metadata": {},
     "output_type": "execute_result"
    }
   ],
   "source": [
    "getComposition('CAATCCAAC', 5)"
   ]
  },
  {
   "cell_type": "markdown",
   "metadata": {
    "colab_type": "text",
    "id": "eRFNRvt_fap5"
   },
   "source": [
    "---"
   ]
  },
  {
   "cell_type": "markdown",
   "metadata": {
    "colab_type": "text",
    "id": "RjERHexwy4_g"
   },
   "source": [
    "# de Bruijn Graph Construction Problem\n",
    "\n",
    "DeBruijn Graph from k-mers Problem: Construct the de Bruijn graph from a set of k-mers.\n",
    "\n",
    "    - Input: A collection of k-mers Patterns.\n",
    "    - Output: The adjacency list of the de Bruijn graph DeBruijn(Patterns).\n",
    "\n",
    "\n",
    "See http://rosalind.info/problems/ba3e/ for sample input and output.\n"
   ]
  },
  {
   "cell_type": "code",
   "execution_count": 5,
   "metadata": {
    "colab": {},
    "colab_type": "code",
    "id": "oU0vbUT_f3w9"
   },
   "outputs": [],
   "source": [
    "def DeBruijn(kmers):\n",
    "  '''\n",
    "  kmers is a list. \n",
    "  e.g. \n",
    "  kmers = ['GAGG','CAGG','GGGG','GGGA','CAGG','AGGG','GGAG']\n",
    "  '''\n",
    "  # Initialize empty dict to hold de bruijn graph\n",
    "  dprefix = {}\n",
    "  # for each kmer  \n",
    "  for e in kmers:\n",
    "    # Get prefix & suffix of this kmer\n",
    "    prefix = (e[:-1])\n",
    "    suffix = (e[1:])\n",
    "    # Add links between prefix and suffix \n",
    "    dprefix.setdefault(prefix, []).append(suffix)\n",
    "\n",
    "  return(dprefix)\n"
   ]
  },
  {
   "cell_type": "code",
   "execution_count": 6,
   "metadata": {
    "colab": {},
    "colab_type": "code",
    "id": "b04t5i-Qh5mS"
   },
   "outputs": [],
   "source": [
    "db = DeBruijn(['GAGG','CAGG','GGGG','GGGA','CAGG','AGGG','GGAG'])"
   ]
  },
  {
   "cell_type": "code",
   "execution_count": 7,
   "metadata": {
    "colab": {
     "base_uri": "https://localhost:8080/",
     "height": 102
    },
    "colab_type": "code",
    "id": "OWVblGfB1nT3",
    "outputId": "7f865217-07ea-4f66-d591-b0b03c5ad18f"
   },
   "outputs": [
    {
     "name": "stdout",
     "output_type": "stream",
     "text": [
      "GAG -> AGG\n",
      "CAG -> AGG AGG\n",
      "GGG -> GGG GGA\n",
      "AGG -> GGG\n",
      "GGA -> GAG\n"
     ]
    }
   ],
   "source": [
    "# function to print de bruijn graph\n",
    "def printDeBruijn(deBruijn):\n",
    "  '''\n",
    "  deBruijn is a dict of the deBruijn graph\n",
    "  e.g.\n",
    "  deBruijn = {'GAG': ['AGG'], 'CAG': ['AGG', 'AGG'], 'GGG': ['GGG', 'GGA'], 'AGG': ['GGG'], 'GGA': ['GAG']}\n",
    "  '''\n",
    "  for key, val in deBruijn.items():\n",
    "    print(key, '->', *val)\n",
    "\n",
    "printDeBruijn(db)"
   ]
  },
  {
   "cell_type": "markdown",
   "metadata": {},
   "source": [
    "3. Using the above, construct the de Bruijn graphs DeBruijn2(TAATGCCATGGGATGTT), DeBruijn3(TAATGCCATGGGATGTT) and DeBruijn4(TAATGCCATGGGATGTT). What do you notice?\n",
    "\n",
    "First graph is much more shorter than the others. The k-mer composition of these strings are different. The genes are divided into groups of k-1 elements for constructing the de Bruijn graphs."
   ]
  },
  {
   "cell_type": "code",
   "execution_count": 23,
   "metadata": {
    "colab": {
     "base_uri": "https://localhost:8080/",
     "height": 459
    },
    "colab_type": "code",
    "id": "vO5E9-AeSDG_",
    "outputId": "6eb03805-9949-4e11-c862-ee3378175d67"
   },
   "outputs": [],
   "source": [
    "two_mer=getComposition('TAATGCCATGGGATGTT',2)\n",
    "three_mer=getComposition('TAATGCCATGGGATGTT',3)\n",
    "four_mer=getComposition('TAATGCCATGGGATGTT',4)\n",
    "\n",
    "db2 = DeBruijn(two_mer)\n",
    "db3 = DeBruijn(three_mer)\n",
    "db4 = DeBruijn(four_mer)"
   ]
  },
  {
   "cell_type": "code",
   "execution_count": 24,
   "metadata": {},
   "outputs": [
    {
     "name": "stdout",
     "output_type": "stream",
     "text": [
      "A -> A T T T\n",
      "C -> A C\n",
      "G -> A C G G T\n",
      "T -> A G G G T\n"
     ]
    }
   ],
   "source": [
    "printDeBruijn(db2)"
   ]
  },
  {
   "cell_type": "code",
   "execution_count": 25,
   "metadata": {},
   "outputs": [
    {
     "name": "stdout",
     "output_type": "stream",
     "text": [
      "AA -> AT\n",
      "AT -> TG TG TG\n",
      "CA -> AT\n",
      "CC -> CA\n",
      "GA -> AT\n",
      "GC -> CC\n",
      "GG -> GA GG\n",
      "GT -> TT\n",
      "TA -> AA\n",
      "TG -> GC GG GT\n"
     ]
    }
   ],
   "source": [
    "printDeBruijn(db3)"
   ]
  },
  {
   "cell_type": "code",
   "execution_count": 26,
   "metadata": {},
   "outputs": [
    {
     "name": "stdout",
     "output_type": "stream",
     "text": [
      "AAT -> ATG\n",
      "ATG -> TGC TGG TGT\n",
      "CAT -> ATG\n",
      "CCA -> CAT\n",
      "GAT -> ATG\n",
      "GCC -> CCA\n",
      "GGA -> GAT\n",
      "GGG -> GGA\n",
      "TAA -> AAT\n",
      "TGC -> GCC\n",
      "TGG -> GGG\n",
      "TGT -> GTT\n"
     ]
    }
   ],
   "source": [
    "printDeBruijn(db4)"
   ]
  },
  {
   "cell_type": "markdown",
   "metadata": {},
   "source": [
    "4. How does the graph DeBruijn3(TAATGCCATGGGATGTT) compare to DeBruijn3(TAATGGGATGCCATGTT)?\n",
    "\n",
    "They are the same."
   ]
  },
  {
   "cell_type": "code",
   "execution_count": 27,
   "metadata": {},
   "outputs": [],
   "source": [
    "first=getComposition('TAATGCCATGGGATGTT',3)\n",
    "second=getComposition('TAATGGGATGCCATGTT',3)\n",
    "\n",
    "d1 = DeBruijn(first)\n",
    "d2 = DeBruijn(second)"
   ]
  },
  {
   "cell_type": "code",
   "execution_count": 28,
   "metadata": {},
   "outputs": [
    {
     "name": "stdout",
     "output_type": "stream",
     "text": [
      "AA -> AT\n",
      "AT -> TG TG TG\n",
      "CA -> AT\n",
      "CC -> CA\n",
      "GA -> AT\n",
      "GC -> CC\n",
      "GG -> GA GG\n",
      "GT -> TT\n",
      "TA -> AA\n",
      "TG -> GC GG GT\n"
     ]
    }
   ],
   "source": [
    "printDeBruijn(d1)"
   ]
  },
  {
   "cell_type": "code",
   "execution_count": 29,
   "metadata": {},
   "outputs": [
    {
     "name": "stdout",
     "output_type": "stream",
     "text": [
      "AA -> AT\n",
      "AT -> TG TG TG\n",
      "CA -> AT\n",
      "CC -> CA\n",
      "GA -> AT\n",
      "GC -> CC\n",
      "GG -> GA GG\n",
      "GT -> TT\n",
      "TA -> AA\n",
      "TG -> GC GG GT\n"
     ]
    }
   ],
   "source": [
    "printDeBruijn(d2)"
   ]
  }
 ],
 "metadata": {
  "colab": {
   "collapsed_sections": [],
   "name": "Copy of Lab6-HW3-de-bruijn.ipynb",
   "provenance": []
  },
  "kernelspec": {
   "display_name": "Python 3",
   "language": "python",
   "name": "python3"
  },
  "language_info": {
   "codemirror_mode": {
    "name": "ipython",
    "version": 3
   },
   "file_extension": ".py",
   "mimetype": "text/x-python",
   "name": "python",
   "nbconvert_exporter": "python",
   "pygments_lexer": "ipython3",
   "version": "3.7.6"
  }
 },
 "nbformat": 4,
 "nbformat_minor": 1
}
