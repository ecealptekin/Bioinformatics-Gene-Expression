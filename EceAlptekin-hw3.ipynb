{
 "cells": [
  {
   "cell_type": "markdown",
   "metadata": {},
   "source": [
    "<font size=15>Ece Alptekin</font>"
   ]
  },
  {
   "cell_type": "markdown",
   "metadata": {},
   "source": [
    "<font size=5>Step 1:</font>"
   ]
  },
  {
   "cell_type": "markdown",
   "metadata": {},
   "source": [
    "To understand the data, pick any two genes and plot their expression values as a single graph.\n",
    "Use a line graph to see the trend across the time. The x-axis should be the time points, the y-axis is the log2 gene expression values. \n",
    "Please properly label your graph.\n",
    "Explain with one sentence what happens to the expression over time for these genes."
   ]
  },
  {
   "cell_type": "code",
   "execution_count": 2,
   "metadata": {},
   "outputs": [],
   "source": [
    "import pandas as pd\n",
    "import matplotlib.pyplot as plt"
   ]
  },
  {
   "cell_type": "code",
   "execution_count": 3,
   "metadata": {},
   "outputs": [
    {
     "data": {
      "text/html": [
       "<div>\n",
       "<style scoped>\n",
       "    .dataframe tbody tr th:only-of-type {\n",
       "        vertical-align: middle;\n",
       "    }\n",
       "\n",
       "    .dataframe tbody tr th {\n",
       "        vertical-align: top;\n",
       "    }\n",
       "\n",
       "    .dataframe thead th {\n",
       "        text-align: right;\n",
       "    }\n",
       "</style>\n",
       "<table border=\"1\" class=\"dataframe\">\n",
       "  <thead>\n",
       "    <tr style=\"text-align: right;\">\n",
       "      <th></th>\n",
       "      <th>ID</th>\n",
       "      <th>t=0</th>\n",
       "      <th>t=9</th>\n",
       "      <th>t=11</th>\n",
       "      <th>t=13</th>\n",
       "      <th>t=15</th>\n",
       "      <th>t=17</th>\n",
       "      <th>t=19</th>\n",
       "    </tr>\n",
       "  </thead>\n",
       "  <tbody>\n",
       "    <tr>\n",
       "      <th>0</th>\n",
       "      <td>YHR007C</td>\n",
       "      <td>0.224</td>\n",
       "      <td>0.367</td>\n",
       "      <td>0.312</td>\n",
       "      <td>0.014</td>\n",
       "      <td>-0.003</td>\n",
       "      <td>-1.357</td>\n",
       "      <td>-0.811</td>\n",
       "    </tr>\n",
       "    <tr>\n",
       "      <th>1</th>\n",
       "      <td>YAL051W</td>\n",
       "      <td>0.002</td>\n",
       "      <td>0.634</td>\n",
       "      <td>0.310</td>\n",
       "      <td>0.441</td>\n",
       "      <td>0.458</td>\n",
       "      <td>-0.136</td>\n",
       "      <td>0.275</td>\n",
       "    </tr>\n",
       "    <tr>\n",
       "      <th>2</th>\n",
       "      <td>YAL054C</td>\n",
       "      <td>-1.070</td>\n",
       "      <td>-0.514</td>\n",
       "      <td>-0.220</td>\n",
       "      <td>-0.012</td>\n",
       "      <td>-0.215</td>\n",
       "      <td>1.741</td>\n",
       "      <td>4.239</td>\n",
       "    </tr>\n",
       "    <tr>\n",
       "      <th>3</th>\n",
       "      <td>YAL056W</td>\n",
       "      <td>0.090</td>\n",
       "      <td>0.884</td>\n",
       "      <td>0.165</td>\n",
       "      <td>0.199</td>\n",
       "      <td>0.034</td>\n",
       "      <td>0.148</td>\n",
       "      <td>0.935</td>\n",
       "    </tr>\n",
       "    <tr>\n",
       "      <th>4</th>\n",
       "      <td>YAL001C</td>\n",
       "      <td>-0.372</td>\n",
       "      <td>1.168</td>\n",
       "      <td>-0.213</td>\n",
       "      <td>0.206</td>\n",
       "      <td>-0.173</td>\n",
       "      <td>-0.013</td>\n",
       "      <td>0.285</td>\n",
       "    </tr>\n",
       "    <tr>\n",
       "      <th>...</th>\n",
       "      <td>...</td>\n",
       "      <td>...</td>\n",
       "      <td>...</td>\n",
       "      <td>...</td>\n",
       "      <td>...</td>\n",
       "      <td>...</td>\n",
       "      <td>...</td>\n",
       "      <td>...</td>\n",
       "    </tr>\n",
       "    <tr>\n",
       "      <th>6160</th>\n",
       "      <td>NORF88</td>\n",
       "      <td>0.167</td>\n",
       "      <td>0.029</td>\n",
       "      <td>0.085</td>\n",
       "      <td>0.145</td>\n",
       "      <td>0.498</td>\n",
       "      <td>0.333</td>\n",
       "      <td>0.921</td>\n",
       "    </tr>\n",
       "    <tr>\n",
       "      <th>6161</th>\n",
       "      <td>NORF90</td>\n",
       "      <td>0.021</td>\n",
       "      <td>-0.028</td>\n",
       "      <td>-0.133</td>\n",
       "      <td>-0.139</td>\n",
       "      <td>0.176</td>\n",
       "      <td>-0.122</td>\n",
       "      <td>0.170</td>\n",
       "    </tr>\n",
       "    <tr>\n",
       "      <th>6162</th>\n",
       "      <td>NORF92</td>\n",
       "      <td>-0.197</td>\n",
       "      <td>-0.275</td>\n",
       "      <td>-0.467</td>\n",
       "      <td>-0.338</td>\n",
       "      <td>-0.237</td>\n",
       "      <td>0.074</td>\n",
       "      <td>0.733</td>\n",
       "    </tr>\n",
       "    <tr>\n",
       "      <th>6163</th>\n",
       "      <td>NORF94</td>\n",
       "      <td>-0.379</td>\n",
       "      <td>-0.124</td>\n",
       "      <td>-0.303</td>\n",
       "      <td>-0.154</td>\n",
       "      <td>-0.209</td>\n",
       "      <td>-0.399</td>\n",
       "      <td>0.606</td>\n",
       "    </tr>\n",
       "    <tr>\n",
       "      <th>6164</th>\n",
       "      <td>NORF96</td>\n",
       "      <td>-0.087</td>\n",
       "      <td>-0.037</td>\n",
       "      <td>-0.282</td>\n",
       "      <td>-0.162</td>\n",
       "      <td>-0.443</td>\n",
       "      <td>-0.934</td>\n",
       "      <td>-0.912</td>\n",
       "    </tr>\n",
       "  </tbody>\n",
       "</table>\n",
       "<p>6165 rows × 8 columns</p>\n",
       "</div>"
      ],
      "text/plain": [
       "           ID    t=0    t=9   t=11   t=13   t=15   t=17   t=19\n",
       "0     YHR007C  0.224  0.367  0.312  0.014 -0.003 -1.357 -0.811\n",
       "1     YAL051W  0.002  0.634  0.310  0.441  0.458 -0.136  0.275\n",
       "2     YAL054C -1.070 -0.514 -0.220 -0.012 -0.215  1.741  4.239\n",
       "3     YAL056W  0.090  0.884  0.165  0.199  0.034  0.148  0.935\n",
       "4     YAL001C -0.372  1.168 -0.213  0.206 -0.173 -0.013  0.285\n",
       "...       ...    ...    ...    ...    ...    ...    ...    ...\n",
       "6160   NORF88  0.167  0.029  0.085  0.145  0.498  0.333  0.921\n",
       "6161   NORF90  0.021 -0.028 -0.133 -0.139  0.176 -0.122  0.170\n",
       "6162   NORF92 -0.197 -0.275 -0.467 -0.338 -0.237  0.074  0.733\n",
       "6163   NORF94 -0.379 -0.124 -0.303 -0.154 -0.209 -0.399  0.606\n",
       "6164   NORF96 -0.087 -0.037 -0.282 -0.162 -0.443 -0.934 -0.912\n",
       "\n",
       "[6165 rows x 8 columns]"
      ]
     },
     "execution_count": 3,
     "metadata": {},
     "output_type": "execute_result"
    }
   ],
   "source": [
    "df = pd.read_table('yeastExpression.txt', delim_whitespace=True, index_col=False)\n",
    "df"
   ]
  },
  {
   "cell_type": "code",
   "execution_count": 4,
   "metadata": {},
   "outputs": [
    {
     "data": {
      "text/html": [
       "<div>\n",
       "<style scoped>\n",
       "    .dataframe tbody tr th:only-of-type {\n",
       "        vertical-align: middle;\n",
       "    }\n",
       "\n",
       "    .dataframe tbody tr th {\n",
       "        vertical-align: top;\n",
       "    }\n",
       "\n",
       "    .dataframe thead th {\n",
       "        text-align: right;\n",
       "    }\n",
       "</style>\n",
       "<table border=\"1\" class=\"dataframe\">\n",
       "  <thead>\n",
       "    <tr style=\"text-align: right;\">\n",
       "      <th></th>\n",
       "      <th>ID</th>\n",
       "      <th>t=0</th>\n",
       "      <th>t=9</th>\n",
       "      <th>t=11</th>\n",
       "      <th>t=13</th>\n",
       "      <th>t=15</th>\n",
       "      <th>t=17</th>\n",
       "      <th>t=19</th>\n",
       "    </tr>\n",
       "  </thead>\n",
       "  <tbody>\n",
       "    <tr>\n",
       "      <th>0</th>\n",
       "      <td>YHR007C</td>\n",
       "      <td>0.224</td>\n",
       "      <td>0.367</td>\n",
       "      <td>0.312</td>\n",
       "      <td>0.014</td>\n",
       "      <td>-0.003</td>\n",
       "      <td>-1.357</td>\n",
       "      <td>-0.811</td>\n",
       "    </tr>\n",
       "    <tr>\n",
       "      <th>1</th>\n",
       "      <td>YAL051W</td>\n",
       "      <td>0.002</td>\n",
       "      <td>0.634</td>\n",
       "      <td>0.310</td>\n",
       "      <td>0.441</td>\n",
       "      <td>0.458</td>\n",
       "      <td>-0.136</td>\n",
       "      <td>0.275</td>\n",
       "    </tr>\n",
       "  </tbody>\n",
       "</table>\n",
       "</div>"
      ],
      "text/plain": [
       "        ID    t=0    t=9   t=11   t=13   t=15   t=17   t=19\n",
       "0  YHR007C  0.224  0.367  0.312  0.014 -0.003 -1.357 -0.811\n",
       "1  YAL051W  0.002  0.634  0.310  0.441  0.458 -0.136  0.275"
      ]
     },
     "execution_count": 4,
     "metadata": {},
     "output_type": "execute_result"
    }
   ],
   "source": [
    "new_df = df.head(2)\n",
    "new_df"
   ]
  },
  {
   "cell_type": "code",
   "execution_count": 5,
   "metadata": {},
   "outputs": [
    {
     "data": {
      "text/html": [
       "<div>\n",
       "<style scoped>\n",
       "    .dataframe tbody tr th:only-of-type {\n",
       "        vertical-align: middle;\n",
       "    }\n",
       "\n",
       "    .dataframe tbody tr th {\n",
       "        vertical-align: top;\n",
       "    }\n",
       "\n",
       "    .dataframe thead th {\n",
       "        text-align: right;\n",
       "    }\n",
       "</style>\n",
       "<table border=\"1\" class=\"dataframe\">\n",
       "  <thead>\n",
       "    <tr style=\"text-align: right;\">\n",
       "      <th></th>\n",
       "      <th>t=0</th>\n",
       "      <th>t=9</th>\n",
       "      <th>t=11</th>\n",
       "      <th>t=13</th>\n",
       "      <th>t=15</th>\n",
       "      <th>t=17</th>\n",
       "      <th>t=19</th>\n",
       "    </tr>\n",
       "  </thead>\n",
       "  <tbody>\n",
       "    <tr>\n",
       "      <th>0</th>\n",
       "      <td>0.224</td>\n",
       "      <td>0.367</td>\n",
       "      <td>0.312</td>\n",
       "      <td>0.014</td>\n",
       "      <td>-0.003</td>\n",
       "      <td>-1.357</td>\n",
       "      <td>-0.811</td>\n",
       "    </tr>\n",
       "    <tr>\n",
       "      <th>1</th>\n",
       "      <td>0.002</td>\n",
       "      <td>0.634</td>\n",
       "      <td>0.310</td>\n",
       "      <td>0.441</td>\n",
       "      <td>0.458</td>\n",
       "      <td>-0.136</td>\n",
       "      <td>0.275</td>\n",
       "    </tr>\n",
       "  </tbody>\n",
       "</table>\n",
       "</div>"
      ],
      "text/plain": [
       "     t=0    t=9   t=11   t=13   t=15   t=17   t=19\n",
       "0  0.224  0.367  0.312  0.014 -0.003 -1.357 -0.811\n",
       "1  0.002  0.634  0.310  0.441  0.458 -0.136  0.275"
      ]
     },
     "execution_count": 5,
     "metadata": {},
     "output_type": "execute_result"
    }
   ],
   "source": [
    "new_df = new_df.drop(columns='ID')\n",
    "new_df"
   ]
  },
  {
   "cell_type": "code",
   "execution_count": 6,
   "metadata": {},
   "outputs": [
    {
     "data": {
      "text/html": [
       "<div>\n",
       "<style scoped>\n",
       "    .dataframe tbody tr th:only-of-type {\n",
       "        vertical-align: middle;\n",
       "    }\n",
       "\n",
       "    .dataframe tbody tr th {\n",
       "        vertical-align: top;\n",
       "    }\n",
       "\n",
       "    .dataframe thead th {\n",
       "        text-align: right;\n",
       "    }\n",
       "</style>\n",
       "<table border=\"1\" class=\"dataframe\">\n",
       "  <thead>\n",
       "    <tr style=\"text-align: right;\">\n",
       "      <th></th>\n",
       "      <th>0</th>\n",
       "      <th>1</th>\n",
       "    </tr>\n",
       "  </thead>\n",
       "  <tbody>\n",
       "    <tr>\n",
       "      <th>t=0</th>\n",
       "      <td>0.224</td>\n",
       "      <td>0.002</td>\n",
       "    </tr>\n",
       "    <tr>\n",
       "      <th>t=9</th>\n",
       "      <td>0.367</td>\n",
       "      <td>0.634</td>\n",
       "    </tr>\n",
       "    <tr>\n",
       "      <th>t=11</th>\n",
       "      <td>0.312</td>\n",
       "      <td>0.310</td>\n",
       "    </tr>\n",
       "    <tr>\n",
       "      <th>t=13</th>\n",
       "      <td>0.014</td>\n",
       "      <td>0.441</td>\n",
       "    </tr>\n",
       "    <tr>\n",
       "      <th>t=15</th>\n",
       "      <td>-0.003</td>\n",
       "      <td>0.458</td>\n",
       "    </tr>\n",
       "    <tr>\n",
       "      <th>t=17</th>\n",
       "      <td>-1.357</td>\n",
       "      <td>-0.136</td>\n",
       "    </tr>\n",
       "    <tr>\n",
       "      <th>t=19</th>\n",
       "      <td>-0.811</td>\n",
       "      <td>0.275</td>\n",
       "    </tr>\n",
       "  </tbody>\n",
       "</table>\n",
       "</div>"
      ],
      "text/plain": [
       "          0      1\n",
       "t=0   0.224  0.002\n",
       "t=9   0.367  0.634\n",
       "t=11  0.312  0.310\n",
       "t=13  0.014  0.441\n",
       "t=15 -0.003  0.458\n",
       "t=17 -1.357 -0.136\n",
       "t=19 -0.811  0.275"
      ]
     },
     "execution_count": 6,
     "metadata": {},
     "output_type": "execute_result"
    }
   ],
   "source": [
    "new_df = new_df.T\n",
    "new_df"
   ]
  },
  {
   "cell_type": "code",
   "execution_count": 7,
   "metadata": {},
   "outputs": [
    {
     "data": {
      "text/plain": [
       "Text(0, 0.5, 'log2 Gene Expressions')"
      ]
     },
     "execution_count": 7,
     "metadata": {},
     "output_type": "execute_result"
    },
    {
     "data": {
      "image/png": "[encoded data removed]",
      "text/plain": [
       "<Figure size 432x288 with 1 Axes>"
      ]
     },
     "metadata": {
      "needs_background": "light"
     },
     "output_type": "display_data"
    }
   ],
   "source": [
    "ax = new_df.plot(title='The Expression Over Time')\n",
    "ax.set_xlabel(\"Time Points\")\n",
    "ax.set_ylabel(\"log2 Gene Expressions\")"
   ]
  },
  {
   "cell_type": "markdown",
   "metadata": {},
   "source": [
    "Explain with one sentence what happens to the expression over time for these genes.\n",
    "For the gene YHR007C, log2 gene expression values decrease until t=17, then it starts to increase. On the other hand, for the gene YAL051W, generally there are no big differences in log2 gene expressions between the time points."
   ]
  },
  {
   "cell_type": "markdown",
   "metadata": {},
   "source": [
    "<font size=5>Step 2:</font>"
   ]
  },
  {
   "cell_type": "markdown",
   "metadata": {},
   "source": [
    "Calculate the Spearman correlation between the expression of the genes you chose. Is there any correlation? If there is is it positive or negative?"
   ]
  },
  {
   "cell_type": "code",
   "execution_count": 8,
   "metadata": {},
   "outputs": [],
   "source": [
    "from scipy.stats import spearmanr"
   ]
  },
  {
   "cell_type": "code",
   "execution_count": 9,
   "metadata": {},
   "outputs": [],
   "source": [
    "corr, p_value = spearmanr(new_df[0], new_df[1])"
   ]
  },
  {
   "cell_type": "code",
   "execution_count": 10,
   "metadata": {},
   "outputs": [
    {
     "name": "stdout",
     "output_type": "stream",
     "text": [
      "0.5714285714285715\n"
     ]
    }
   ],
   "source": [
    "print(corr)"
   ]
  },
  {
   "cell_type": "code",
   "execution_count": 11,
   "metadata": {},
   "outputs": [
    {
     "name": "stdout",
     "output_type": "stream",
     "text": [
      "0.1802019889115274\n"
     ]
    }
   ],
   "source": [
    "print(p_value)"
   ]
  },
  {
   "cell_type": "markdown",
   "metadata": {},
   "source": [
    "<font size=5>Step 3:</font>"
   ]
  },
  {
   "cell_type": "markdown",
   "metadata": {},
   "source": [
    "If a gene’s expression is not varying during the measured time points, it would be hard to identify its role in the process. \n",
    "Therefore, we will filter the genes whose expression do not change over time. Calculate the variance of expression for each gene. (In Python num.var function). Rank the genes based on their variance in descending order (the highest variable gene should be at the top). Which gene varies the most? Which gene varies the least?"
   ]
  },
  {
   "cell_type": "code",
   "execution_count": 12,
   "metadata": {},
   "outputs": [
    {
     "data": {
      "text/html": [
       "<div>\n",
       "<style scoped>\n",
       "    .dataframe tbody tr th:only-of-type {\n",
       "        vertical-align: middle;\n",
       "    }\n",
       "\n",
       "    .dataframe tbody tr th {\n",
       "        vertical-align: top;\n",
       "    }\n",
       "\n",
       "    .dataframe thead th {\n",
       "        text-align: right;\n",
       "    }\n",
       "</style>\n",
       "<table border=\"1\" class=\"dataframe\">\n",
       "  <thead>\n",
       "    <tr style=\"text-align: right;\">\n",
       "      <th></th>\n",
       "      <th>ID</th>\n",
       "      <th>t=0</th>\n",
       "      <th>t=9</th>\n",
       "      <th>t=11</th>\n",
       "      <th>t=13</th>\n",
       "      <th>t=15</th>\n",
       "      <th>t=17</th>\n",
       "      <th>t=19</th>\n",
       "    </tr>\n",
       "  </thead>\n",
       "  <tbody>\n",
       "    <tr>\n",
       "      <th>0</th>\n",
       "      <td>YHR007C</td>\n",
       "      <td>0.224</td>\n",
       "      <td>0.367</td>\n",
       "      <td>0.312</td>\n",
       "      <td>0.014</td>\n",
       "      <td>-0.003</td>\n",
       "      <td>-1.357</td>\n",
       "      <td>-0.811</td>\n",
       "    </tr>\n",
       "    <tr>\n",
       "      <th>1</th>\n",
       "      <td>YAL051W</td>\n",
       "      <td>0.002</td>\n",
       "      <td>0.634</td>\n",
       "      <td>0.310</td>\n",
       "      <td>0.441</td>\n",
       "      <td>0.458</td>\n",
       "      <td>-0.136</td>\n",
       "      <td>0.275</td>\n",
       "    </tr>\n",
       "    <tr>\n",
       "      <th>2</th>\n",
       "      <td>YAL054C</td>\n",
       "      <td>-1.070</td>\n",
       "      <td>-0.514</td>\n",
       "      <td>-0.220</td>\n",
       "      <td>-0.012</td>\n",
       "      <td>-0.215</td>\n",
       "      <td>1.741</td>\n",
       "      <td>4.239</td>\n",
       "    </tr>\n",
       "    <tr>\n",
       "      <th>3</th>\n",
       "      <td>YAL056W</td>\n",
       "      <td>0.090</td>\n",
       "      <td>0.884</td>\n",
       "      <td>0.165</td>\n",
       "      <td>0.199</td>\n",
       "      <td>0.034</td>\n",
       "      <td>0.148</td>\n",
       "      <td>0.935</td>\n",
       "    </tr>\n",
       "    <tr>\n",
       "      <th>4</th>\n",
       "      <td>YAL001C</td>\n",
       "      <td>-0.372</td>\n",
       "      <td>1.168</td>\n",
       "      <td>-0.213</td>\n",
       "      <td>0.206</td>\n",
       "      <td>-0.173</td>\n",
       "      <td>-0.013</td>\n",
       "      <td>0.285</td>\n",
       "    </tr>\n",
       "    <tr>\n",
       "      <th>...</th>\n",
       "      <td>...</td>\n",
       "      <td>...</td>\n",
       "      <td>...</td>\n",
       "      <td>...</td>\n",
       "      <td>...</td>\n",
       "      <td>...</td>\n",
       "      <td>...</td>\n",
       "      <td>...</td>\n",
       "    </tr>\n",
       "    <tr>\n",
       "      <th>6160</th>\n",
       "      <td>NORF88</td>\n",
       "      <td>0.167</td>\n",
       "      <td>0.029</td>\n",
       "      <td>0.085</td>\n",
       "      <td>0.145</td>\n",
       "      <td>0.498</td>\n",
       "      <td>0.333</td>\n",
       "      <td>0.921</td>\n",
       "    </tr>\n",
       "    <tr>\n",
       "      <th>6161</th>\n",
       "      <td>NORF90</td>\n",
       "      <td>0.021</td>\n",
       "      <td>-0.028</td>\n",
       "      <td>-0.133</td>\n",
       "      <td>-0.139</td>\n",
       "      <td>0.176</td>\n",
       "      <td>-0.122</td>\n",
       "      <td>0.170</td>\n",
       "    </tr>\n",
       "    <tr>\n",
       "      <th>6162</th>\n",
       "      <td>NORF92</td>\n",
       "      <td>-0.197</td>\n",
       "      <td>-0.275</td>\n",
       "      <td>-0.467</td>\n",
       "      <td>-0.338</td>\n",
       "      <td>-0.237</td>\n",
       "      <td>0.074</td>\n",
       "      <td>0.733</td>\n",
       "    </tr>\n",
       "    <tr>\n",
       "      <th>6163</th>\n",
       "      <td>NORF94</td>\n",
       "      <td>-0.379</td>\n",
       "      <td>-0.124</td>\n",
       "      <td>-0.303</td>\n",
       "      <td>-0.154</td>\n",
       "      <td>-0.209</td>\n",
       "      <td>-0.399</td>\n",
       "      <td>0.606</td>\n",
       "    </tr>\n",
       "    <tr>\n",
       "      <th>6164</th>\n",
       "      <td>NORF96</td>\n",
       "      <td>-0.087</td>\n",
       "      <td>-0.037</td>\n",
       "      <td>-0.282</td>\n",
       "      <td>-0.162</td>\n",
       "      <td>-0.443</td>\n",
       "      <td>-0.934</td>\n",
       "      <td>-0.912</td>\n",
       "    </tr>\n",
       "  </tbody>\n",
       "</table>\n",
       "<p>6165 rows × 8 columns</p>\n",
       "</div>"
      ],
      "text/plain": [
       "           ID    t=0    t=9   t=11   t=13   t=15   t=17   t=19\n",
       "0     YHR007C  0.224  0.367  0.312  0.014 -0.003 -1.357 -0.811\n",
       "1     YAL051W  0.002  0.634  0.310  0.441  0.458 -0.136  0.275\n",
       "2     YAL054C -1.070 -0.514 -0.220 -0.012 -0.215  1.741  4.239\n",
       "3     YAL056W  0.090  0.884  0.165  0.199  0.034  0.148  0.935\n",
       "4     YAL001C -0.372  1.168 -0.213  0.206 -0.173 -0.013  0.285\n",
       "...       ...    ...    ...    ...    ...    ...    ...    ...\n",
       "6160   NORF88  0.167  0.029  0.085  0.145  0.498  0.333  0.921\n",
       "6161   NORF90  0.021 -0.028 -0.133 -0.139  0.176 -0.122  0.170\n",
       "6162   NORF92 -0.197 -0.275 -0.467 -0.338 -0.237  0.074  0.733\n",
       "6163   NORF94 -0.379 -0.124 -0.303 -0.154 -0.209 -0.399  0.606\n",
       "6164   NORF96 -0.087 -0.037 -0.282 -0.162 -0.443 -0.934 -0.912\n",
       "\n",
       "[6165 rows x 8 columns]"
      ]
     },
     "execution_count": 12,
     "metadata": {},
     "output_type": "execute_result"
    }
   ],
   "source": [
    "df"
   ]
  },
  {
   "cell_type": "code",
   "execution_count": 13,
   "metadata": {},
   "outputs": [],
   "source": [
    "var = df.var(axis=1)"
   ]
  },
  {
   "cell_type": "code",
   "execution_count": 14,
   "metadata": {},
   "outputs": [
    {
     "data": {
      "text/plain": [
       "0       0.426156\n",
       "1       0.072351\n",
       "2       3.379378\n",
       "3       0.148777\n",
       "4       0.264848\n",
       "          ...   \n",
       "6160    0.097741\n",
       "6161    0.018760\n",
       "6162    0.162382\n",
       "6163    0.118742\n",
       "6164    0.141498\n",
       "Length: 6165, dtype: float64"
      ]
     },
     "execution_count": 14,
     "metadata": {},
     "output_type": "execute_result"
    }
   ],
   "source": [
    "var"
   ]
  },
  {
   "cell_type": "code",
   "execution_count": 15,
   "metadata": {},
   "outputs": [
    {
     "data": {
      "text/plain": [
       "3839    11.534279\n",
       "801      6.191016\n",
       "531      4.736351\n",
       "605      4.350111\n",
       "562      3.921612\n",
       "          ...    \n",
       "806      0.003514\n",
       "391      0.003382\n",
       "2775     0.002873\n",
       "554      0.002704\n",
       "1405     0.000810\n",
       "Length: 6165, dtype: float64"
      ]
     },
     "execution_count": 15,
     "metadata": {},
     "output_type": "execute_result"
    }
   ],
   "source": [
    "sortedval = var.sort_values(ascending=False)\n",
    "sortedval"
   ]
  },
  {
   "cell_type": "code",
   "execution_count": 16,
   "metadata": {},
   "outputs": [
    {
     "data": {
      "text/plain": [
       "ID      YJL009W\n",
       "t=0       0.078\n",
       "t=9      -0.123\n",
       "t=11      0.062\n",
       "t=13     -0.161\n",
       "t=15      0.113\n",
       "t=17      0.205\n",
       "t=19      -8.95\n",
       "Name: 3839, dtype: object"
      ]
     },
     "execution_count": 16,
     "metadata": {},
     "output_type": "execute_result"
    }
   ],
   "source": [
    "df.iloc[3839]"
   ]
  },
  {
   "cell_type": "markdown",
   "metadata": {},
   "source": [
    "YJL009W gene varies the most."
   ]
  },
  {
   "cell_type": "code",
   "execution_count": 17,
   "metadata": {},
   "outputs": [
    {
     "data": {
      "text/plain": [
       "ID      YPL016W\n",
       "t=0      -0.238\n",
       "t=9      -0.166\n",
       "t=11     -0.237\n",
       "t=13      -0.22\n",
       "t=15     -0.239\n",
       "t=17     -0.236\n",
       "t=19     -0.193\n",
       "Name: 1405, dtype: object"
      ]
     },
     "execution_count": 17,
     "metadata": {},
     "output_type": "execute_result"
    }
   ],
   "source": [
    "df.iloc[1405]"
   ]
  },
  {
   "cell_type": "markdown",
   "metadata": {},
   "source": [
    "YPL016W gene varies the least."
   ]
  },
  {
   "cell_type": "markdown",
   "metadata": {},
   "source": [
    "<font size=5>Step 4:</font>"
   ]
  },
  {
   "cell_type": "markdown",
   "metadata": {},
   "source": [
    "In a typical analysis genes with low variance are removed. \n",
    "Here we will filter even more to obtain a manageable list.\n",
    "For this, select the top 800 most varying genes. Report the lowest variance in this 800 gene list."
   ]
  },
  {
   "cell_type": "code",
   "execution_count": 18,
   "metadata": {},
   "outputs": [
    {
     "data": {
      "text/plain": [
       "0       0.426156\n",
       "1       0.072351\n",
       "2       3.379378\n",
       "3       0.148777\n",
       "4       0.264848\n",
       "          ...   \n",
       "6160    0.097741\n",
       "6161    0.018760\n",
       "6162    0.162382\n",
       "6163    0.118742\n",
       "6164    0.141498\n",
       "Length: 6165, dtype: float64"
      ]
     },
     "execution_count": 18,
     "metadata": {},
     "output_type": "execute_result"
    }
   ],
   "source": [
    "var"
   ]
  },
  {
   "cell_type": "code",
   "execution_count": 19,
   "metadata": {},
   "outputs": [
    {
     "data": {
      "text/plain": [
       "3839    11.534279\n",
       "801      6.191016\n",
       "531      4.736351\n",
       "605      4.350111\n",
       "562      3.921612\n",
       "          ...    \n",
       "2947     0.535934\n",
       "3111     0.535759\n",
       "3983     0.535750\n",
       "5737     0.535557\n",
       "1756     0.535379\n",
       "Length: 800, dtype: float64"
      ]
     },
     "execution_count": 19,
     "metadata": {},
     "output_type": "execute_result"
    }
   ],
   "source": [
    "newdata = sortedval[:800]\n",
    "newdata"
   ]
  },
  {
   "cell_type": "code",
   "execution_count": 20,
   "metadata": {},
   "outputs": [
    {
     "data": {
      "text/plain": [
       "0.5353791428571428"
      ]
     },
     "execution_count": 20,
     "metadata": {},
     "output_type": "execute_result"
    }
   ],
   "source": [
    "newdata.iloc[799]"
   ]
  },
  {
   "cell_type": "markdown",
   "metadata": {},
   "source": [
    "The lowest variance in this 800 gene list is 0.5353791428571428."
   ]
  },
  {
   "cell_type": "markdown",
   "metadata": {},
   "source": [
    "<font size=5>Step 5:</font>"
   ]
  },
  {
   "cell_type": "markdown",
   "metadata": {},
   "source": [
    "Cluster the genes in the filtered dataset using hierarchical clustering with average linkage function and with a distance function of your choice. Display your clustering results with a heatmap. You may do this by using Python or you may use this tool http://www2.heatmapper.ca/expression/. The accepted file formats are specified in the link http://www2.heatmapper.ca/about/instructions/: Are the genes clustered well ? Do you observe any interesting result? State with one sentence."
   ]
  },
  {
   "cell_type": "code",
   "execution_count": 21,
   "metadata": {},
   "outputs": [
    {
     "data": {
      "text/plain": [
       "pandas.core.series.Series"
      ]
     },
     "execution_count": 21,
     "metadata": {},
     "output_type": "execute_result"
    }
   ],
   "source": [
    "type(newdata)"
   ]
  },
  {
   "cell_type": "code",
   "execution_count": 22,
   "metadata": {},
   "outputs": [
    {
     "data": {
      "text/html": [
       "<div>\n",
       "<style scoped>\n",
       "    .dataframe tbody tr th:only-of-type {\n",
       "        vertical-align: middle;\n",
       "    }\n",
       "\n",
       "    .dataframe tbody tr th {\n",
       "        vertical-align: top;\n",
       "    }\n",
       "\n",
       "    .dataframe thead th {\n",
       "        text-align: right;\n",
       "    }\n",
       "</style>\n",
       "<table border=\"1\" class=\"dataframe\">\n",
       "  <thead>\n",
       "    <tr style=\"text-align: right;\">\n",
       "      <th></th>\n",
       "      <th>0</th>\n",
       "    </tr>\n",
       "  </thead>\n",
       "  <tbody>\n",
       "    <tr>\n",
       "      <th>3839</th>\n",
       "      <td>11.534279</td>\n",
       "    </tr>\n",
       "    <tr>\n",
       "      <th>801</th>\n",
       "      <td>6.191016</td>\n",
       "    </tr>\n",
       "    <tr>\n",
       "      <th>531</th>\n",
       "      <td>4.736351</td>\n",
       "    </tr>\n",
       "    <tr>\n",
       "      <th>605</th>\n",
       "      <td>4.350111</td>\n",
       "    </tr>\n",
       "    <tr>\n",
       "      <th>562</th>\n",
       "      <td>3.921612</td>\n",
       "    </tr>\n",
       "    <tr>\n",
       "      <th>...</th>\n",
       "      <td>...</td>\n",
       "    </tr>\n",
       "    <tr>\n",
       "      <th>2947</th>\n",
       "      <td>0.535934</td>\n",
       "    </tr>\n",
       "    <tr>\n",
       "      <th>3111</th>\n",
       "      <td>0.535759</td>\n",
       "    </tr>\n",
       "    <tr>\n",
       "      <th>3983</th>\n",
       "      <td>0.535750</td>\n",
       "    </tr>\n",
       "    <tr>\n",
       "      <th>5737</th>\n",
       "      <td>0.535557</td>\n",
       "    </tr>\n",
       "    <tr>\n",
       "      <th>1756</th>\n",
       "      <td>0.535379</td>\n",
       "    </tr>\n",
       "  </tbody>\n",
       "</table>\n",
       "<p>800 rows × 1 columns</p>\n",
       "</div>"
      ],
      "text/plain": [
       "              0\n",
       "3839  11.534279\n",
       "801    6.191016\n",
       "531    4.736351\n",
       "605    4.350111\n",
       "562    3.921612\n",
       "...         ...\n",
       "2947   0.535934\n",
       "3111   0.535759\n",
       "3983   0.535750\n",
       "5737   0.535557\n",
       "1756   0.535379\n",
       "\n",
       "[800 rows x 1 columns]"
      ]
     },
     "execution_count": 22,
     "metadata": {},
     "output_type": "execute_result"
    }
   ],
   "source": [
    "clusterdata = newdata.to_frame()\n",
    "clusterdata"
   ]
  },
  {
   "cell_type": "code",
   "execution_count": 23,
   "metadata": {},
   "outputs": [
    {
     "data": {
      "text/html": [
       "<div>\n",
       "<style scoped>\n",
       "    .dataframe tbody tr th:only-of-type {\n",
       "        vertical-align: middle;\n",
       "    }\n",
       "\n",
       "    .dataframe tbody tr th {\n",
       "        vertical-align: top;\n",
       "    }\n",
       "\n",
       "    .dataframe thead th {\n",
       "        text-align: right;\n",
       "    }\n",
       "</style>\n",
       "<table border=\"1\" class=\"dataframe\">\n",
       "  <thead>\n",
       "    <tr style=\"text-align: right;\">\n",
       "      <th></th>\n",
       "      <th>ID</th>\n",
       "    </tr>\n",
       "  </thead>\n",
       "  <tbody>\n",
       "    <tr>\n",
       "      <th>0</th>\n",
       "      <td>YHR007C</td>\n",
       "    </tr>\n",
       "    <tr>\n",
       "      <th>1</th>\n",
       "      <td>YAL051W</td>\n",
       "    </tr>\n",
       "    <tr>\n",
       "      <th>2</th>\n",
       "      <td>YAL054C</td>\n",
       "    </tr>\n",
       "    <tr>\n",
       "      <th>3</th>\n",
       "      <td>YAL056W</td>\n",
       "    </tr>\n",
       "    <tr>\n",
       "      <th>4</th>\n",
       "      <td>YAL001C</td>\n",
       "    </tr>\n",
       "    <tr>\n",
       "      <th>...</th>\n",
       "      <td>...</td>\n",
       "    </tr>\n",
       "    <tr>\n",
       "      <th>6160</th>\n",
       "      <td>NORF88</td>\n",
       "    </tr>\n",
       "    <tr>\n",
       "      <th>6161</th>\n",
       "      <td>NORF90</td>\n",
       "    </tr>\n",
       "    <tr>\n",
       "      <th>6162</th>\n",
       "      <td>NORF92</td>\n",
       "    </tr>\n",
       "    <tr>\n",
       "      <th>6163</th>\n",
       "      <td>NORF94</td>\n",
       "    </tr>\n",
       "    <tr>\n",
       "      <th>6164</th>\n",
       "      <td>NORF96</td>\n",
       "    </tr>\n",
       "  </tbody>\n",
       "</table>\n",
       "<p>6165 rows × 1 columns</p>\n",
       "</div>"
      ],
      "text/plain": [
       "           ID\n",
       "0     YHR007C\n",
       "1     YAL051W\n",
       "2     YAL054C\n",
       "3     YAL056W\n",
       "4     YAL001C\n",
       "...       ...\n",
       "6160   NORF88\n",
       "6161   NORF90\n",
       "6162   NORF92\n",
       "6163   NORF94\n",
       "6164   NORF96\n",
       "\n",
       "[6165 rows x 1 columns]"
      ]
     },
     "execution_count": 23,
     "metadata": {},
     "output_type": "execute_result"
    }
   ],
   "source": [
    "col = df['ID']\n",
    "newcol = col.to_frame()\n",
    "newcol"
   ]
  },
  {
   "cell_type": "code",
   "execution_count": 24,
   "metadata": {},
   "outputs": [
    {
     "data": {
      "text/html": [
       "<div>\n",
       "<style scoped>\n",
       "    .dataframe tbody tr th:only-of-type {\n",
       "        vertical-align: middle;\n",
       "    }\n",
       "\n",
       "    .dataframe tbody tr th {\n",
       "        vertical-align: top;\n",
       "    }\n",
       "\n",
       "    .dataframe thead th {\n",
       "        text-align: right;\n",
       "    }\n",
       "</style>\n",
       "<table border=\"1\" class=\"dataframe\">\n",
       "  <thead>\n",
       "    <tr style=\"text-align: right;\">\n",
       "      <th></th>\n",
       "      <th>ID</th>\n",
       "      <th>t=0</th>\n",
       "      <th>t=9</th>\n",
       "      <th>t=11</th>\n",
       "      <th>t=13</th>\n",
       "      <th>t=15</th>\n",
       "      <th>t=17</th>\n",
       "      <th>t=19</th>\n",
       "    </tr>\n",
       "  </thead>\n",
       "  <tbody>\n",
       "    <tr>\n",
       "      <th>3839</th>\n",
       "      <td>YJL009W</td>\n",
       "      <td>0.078</td>\n",
       "      <td>-0.123</td>\n",
       "      <td>0.062</td>\n",
       "      <td>-0.161</td>\n",
       "      <td>0.113</td>\n",
       "      <td>0.205</td>\n",
       "      <td>-8.950</td>\n",
       "    </tr>\n",
       "    <tr>\n",
       "      <th>801</th>\n",
       "      <td>YJL216C</td>\n",
       "      <td>-0.545</td>\n",
       "      <td>-1.573</td>\n",
       "      <td>-0.098</td>\n",
       "      <td>-0.268</td>\n",
       "      <td>-6.310</td>\n",
       "      <td>1.234</td>\n",
       "      <td>0.441</td>\n",
       "    </tr>\n",
       "    <tr>\n",
       "      <th>531</th>\n",
       "      <td>YGL184C</td>\n",
       "      <td>-1.322</td>\n",
       "      <td>-3.467</td>\n",
       "      <td>-0.051</td>\n",
       "      <td>-0.588</td>\n",
       "      <td>-4.222</td>\n",
       "      <td>1.594</td>\n",
       "      <td>1.012</td>\n",
       "    </tr>\n",
       "    <tr>\n",
       "      <th>605</th>\n",
       "      <td>YGR225W</td>\n",
       "      <td>-1.061</td>\n",
       "      <td>-4.479</td>\n",
       "      <td>0.735</td>\n",
       "      <td>0.220</td>\n",
       "      <td>-0.285</td>\n",
       "      <td>2.120</td>\n",
       "      <td>0.627</td>\n",
       "    </tr>\n",
       "    <tr>\n",
       "      <th>562</th>\n",
       "      <td>YGR043C</td>\n",
       "      <td>-0.400</td>\n",
       "      <td>-1.345</td>\n",
       "      <td>-0.282</td>\n",
       "      <td>-0.071</td>\n",
       "      <td>0.379</td>\n",
       "      <td>3.962</td>\n",
       "      <td>3.122</td>\n",
       "    </tr>\n",
       "    <tr>\n",
       "      <th>...</th>\n",
       "      <td>...</td>\n",
       "      <td>...</td>\n",
       "      <td>...</td>\n",
       "      <td>...</td>\n",
       "      <td>...</td>\n",
       "      <td>...</td>\n",
       "      <td>...</td>\n",
       "      <td>...</td>\n",
       "    </tr>\n",
       "    <tr>\n",
       "      <th>2947</th>\n",
       "      <td>YOR369C</td>\n",
       "      <td>0.164</td>\n",
       "      <td>0.343</td>\n",
       "      <td>0.162</td>\n",
       "      <td>0.345</td>\n",
       "      <td>0.163</td>\n",
       "      <td>-0.582</td>\n",
       "      <td>-1.649</td>\n",
       "    </tr>\n",
       "    <tr>\n",
       "      <th>3111</th>\n",
       "      <td>YAL036C</td>\n",
       "      <td>0.187</td>\n",
       "      <td>0.128</td>\n",
       "      <td>0.326</td>\n",
       "      <td>-0.482</td>\n",
       "      <td>-0.353</td>\n",
       "      <td>-1.178</td>\n",
       "      <td>-1.606</td>\n",
       "    </tr>\n",
       "    <tr>\n",
       "      <th>3983</th>\n",
       "      <td>YKL198C</td>\n",
       "      <td>-0.673</td>\n",
       "      <td>-0.495</td>\n",
       "      <td>-0.223</td>\n",
       "      <td>-0.291</td>\n",
       "      <td>-1.760</td>\n",
       "      <td>0.665</td>\n",
       "      <td>-0.077</td>\n",
       "    </tr>\n",
       "    <tr>\n",
       "      <th>5737</th>\n",
       "      <td>YMR136W</td>\n",
       "      <td>-0.384</td>\n",
       "      <td>0.232</td>\n",
       "      <td>0.750</td>\n",
       "      <td>0.357</td>\n",
       "      <td>0.906</td>\n",
       "      <td>1.469</td>\n",
       "      <td>1.734</td>\n",
       "    </tr>\n",
       "    <tr>\n",
       "      <th>1756</th>\n",
       "      <td>YDL051W</td>\n",
       "      <td>0.185</td>\n",
       "      <td>0.676</td>\n",
       "      <td>0.152</td>\n",
       "      <td>-0.308</td>\n",
       "      <td>-0.671</td>\n",
       "      <td>-1.327</td>\n",
       "      <td>-1.100</td>\n",
       "    </tr>\n",
       "  </tbody>\n",
       "</table>\n",
       "<p>800 rows × 8 columns</p>\n",
       "</div>"
      ],
      "text/plain": [
       "           ID    t=0    t=9   t=11   t=13   t=15   t=17   t=19\n",
       "3839  YJL009W  0.078 -0.123  0.062 -0.161  0.113  0.205 -8.950\n",
       "801   YJL216C -0.545 -1.573 -0.098 -0.268 -6.310  1.234  0.441\n",
       "531   YGL184C -1.322 -3.467 -0.051 -0.588 -4.222  1.594  1.012\n",
       "605   YGR225W -1.061 -4.479  0.735  0.220 -0.285  2.120  0.627\n",
       "562   YGR043C -0.400 -1.345 -0.282 -0.071  0.379  3.962  3.122\n",
       "...       ...    ...    ...    ...    ...    ...    ...    ...\n",
       "2947  YOR369C  0.164  0.343  0.162  0.345  0.163 -0.582 -1.649\n",
       "3111  YAL036C  0.187  0.128  0.326 -0.482 -0.353 -1.178 -1.606\n",
       "3983  YKL198C -0.673 -0.495 -0.223 -0.291 -1.760  0.665 -0.077\n",
       "5737  YMR136W -0.384  0.232  0.750  0.357  0.906  1.469  1.734\n",
       "1756  YDL051W  0.185  0.676  0.152 -0.308 -0.671 -1.327 -1.100\n",
       "\n",
       "[800 rows x 8 columns]"
      ]
     },
     "execution_count": 24,
     "metadata": {},
     "output_type": "execute_result"
    }
   ],
   "source": [
    "filtered = clusterdata.merge(df, left_index=True, right_index=True)\n",
    "filtered = filtered.drop(columns=0)\n",
    "filtered"
   ]
  },
  {
   "cell_type": "code",
   "execution_count": 25,
   "metadata": {},
   "outputs": [],
   "source": [
    "filtered.to_csv(r'data.csv', index=None, sep=',')"
   ]
  },
  {
   "cell_type": "markdown",
   "metadata": {},
   "source": [
    "These genes are clustered well, since according to the heat map, genes are located close to each other. They are not spread over a wide area."
   ]
  }
 ],
 "metadata": {
  "kernelspec": {
   "display_name": "Python 3",
   "language": "python",
   "name": "python3"
  },
  "language_info": {
   "codemirror_mode": {
    "name": "ipython",
    "version": 3
   },
   "file_extension": ".py",
   "mimetype": "text/x-python",
   "name": "python",
   "nbconvert_exporter": "python",
   "pygments_lexer": "ipython3",
   "version": "3.7.6"
  }
 },
 "nbformat": 4,
 "nbformat_minor": 4
}
